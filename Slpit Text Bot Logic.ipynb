{
 "cells": [
  {
   "cell_type": "code",
   "execution_count": 1,
   "metadata": {},
   "outputs": [
    {
     "name": "stdout",
     "output_type": "stream",
     "text": [
      "intial_dictionary {'a': 'akshat', 'b': 'bhuvan', 'c': 'chandan'}\n",
      "keys :  ['a', 'b', 'c']\n",
      "values :  ['akshat', 'bhuvan', 'chandan']\n"
     ]
    }
   ],
   "source": [
    "# Python code to demonstrate \n",
    "# to split dictionary \n",
    "# into keys and values \n",
    "  \n",
    "# initialising _dictionary \n",
    "ini_dict = {'a' : 'akshat', 'b' : 'bhuvan', 'c': 'chandan'} \n",
    "  \n",
    "# printing iniial_dictionary \n",
    "print(\"intial_dictionary\", str(ini_dict)) \n",
    "  \n",
    "# split dictionary into keys and values \n",
    "keys = [] \n",
    "values = [] \n",
    "items = ini_dict.items() \n",
    "for item in items: \n",
    "    keys.append(item[0]), values.append(item[1]) \n",
    "  \n",
    "# printing keys and values separately \n",
    "print (\"keys : \", str(keys)) \n",
    "print (\"values : \", str(values))"
   ]
  },
  {
   "cell_type": "code",
   "execution_count": 2,
   "metadata": {},
   "outputs": [
    {
     "name": "stdout",
     "output_type": "stream",
     "text": [
      "3\n",
      "8\n",
      "-1\n"
     ]
    }
   ],
   "source": [
    "# matching.py\n",
    "\n",
    "def find_str(s, char):\n",
    "    index = 0\n",
    "\n",
    "    if char in s:\n",
    "        c = char[0]\n",
    "        for ch in s:\n",
    "            if ch == c:\n",
    "                if s[index:index+len(char)] == char:\n",
    "                    return index\n",
    "\n",
    "            index += 1\n",
    "\n",
    "    return -1\n",
    "\n",
    "print(find_str(\"Happy birthday\", \"py\"))\n",
    "print(find_str(\"Happy birthday\", \"rth\"))\n",
    "print(find_str(\"Happy birthday\", \"rh\"))"
   ]
  },
  {
   "cell_type": "code",
   "execution_count": 5,
   "metadata": {},
   "outputs": [
    {
     "ename": "SyntaxError",
     "evalue": "invalid character in identifier (<ipython-input-5-036292e46333>, line 3)",
     "output_type": "error",
     "traceback": [
      "\u001b[1;36m  File \u001b[1;32m\"<ipython-input-5-036292e46333>\"\u001b[1;36m, line \u001b[1;32m3\u001b[0m\n\u001b[1;33m    x.split(“,”)\u001b[0m\n\u001b[1;37m            ^\u001b[0m\n\u001b[1;31mSyntaxError\u001b[0m\u001b[1;31m:\u001b[0m invalid character in identifier\n"
     ]
    }
   ],
   "source": [
    "#split logic\n",
    "x = \"blue,red,green\"\n",
    "x.split(“,”)"
   ]
  },
  {
   "cell_type": "code",
   "execution_count": null,
   "metadata": {},
   "outputs": [],
   "source": []
  }
 ],
 "metadata": {
  "kernelspec": {
   "display_name": "Python 3",
   "language": "python",
   "name": "python3"
  },
  "language_info": {
   "codemirror_mode": {
    "name": "ipython",
    "version": 3
   },
   "file_extension": ".py",
   "mimetype": "text/x-python",
   "name": "python",
   "nbconvert_exporter": "python",
   "pygments_lexer": "ipython3",
   "version": "3.7.4"
  }
 },
 "nbformat": 4,
 "nbformat_minor": 2
}
