{
 "cells": [
  {
   "cell_type": "code",
   "execution_count": 1,
   "metadata": {},
   "outputs": [
    {
     "name": "stdout",
     "output_type": "stream",
     "text": [
      "RealMe X\n"
     ]
    }
   ],
   "source": [
    "class Mobile:\n",
    "    @classmethod\n",
    "    def show_model(cls):\n",
    "        print(\"RealMe X\")\n",
    "        \n",
    "realme = Mobile()\n",
    "Mobile.show_model()"
   ]
  },
  {
   "cell_type": "code",
   "execution_count": 10,
   "metadata": {},
   "outputs": [],
   "source": [
    "class Teacher:\n",
    "    def setid(self,id):\n",
    "        self.id=id\n",
    "        \n",
    "    def getid(self):\n",
    "        return self.id\n",
    "    \n",
    "    def setname(self,name):\n",
    "        self.name=name\n",
    "        \n",
    "    def getname(self):\n",
    "        return self.name\n",
    "    \n",
    "    def setaddress(self,address):\n",
    "        self.address=address\n",
    "        \n",
    "    def getaddress(self):\n",
    "        return self.address\n",
    "    \n",
    "    def setsalary(self,salary):\n",
    "        self.salary=salary\n",
    "        \n",
    "    def getsalary(self):\n",
    "        return self.salary"
   ]
  },
  {
   "cell_type": "code",
   "execution_count": 11,
   "metadata": {},
   "outputs": [],
   "source": [
    "t=Teacher()\n",
    "\n",
    "t.setid(10)\n",
    "t.setname('Prakash')\n",
    "t.setaddress('HN0, Rajouri gardens, Delhi')\n",
    "t.setsalary(25000.50)"
   ]
  },
  {
   "cell_type": "code",
   "execution_count": 13,
   "metadata": {},
   "outputs": [
    {
     "name": "stdout",
     "output_type": "stream",
     "text": [
      "id= 10\n",
      "name= Prakash\n",
      "address= HN0, Rajouri gardens, Delhi\n",
      "salary= 25000.5\n"
     ]
    }
   ],
   "source": [
    "print('id=',t.getid())\n",
    "print('name=',t.getname())\n",
    "print('address=',t.getaddress())\n",
    "print('salary=',t.getsalary())\n"
   ]
  },
  {
   "cell_type": "code",
   "execution_count": 14,
   "metadata": {},
   "outputs": [],
   "source": [
    "class Student():\n",
    "    def setid(self,id):\n",
    "        self.id=id\n",
    "        \n",
    "    def getid(self):\n",
    "        return self.id\n",
    "    \n",
    "    def setname(self,name):\n",
    "        self.name=name\n",
    "        \n",
    "    def getname(self):\n",
    "        return self.name\n",
    "    \n",
    "    def setaddress(self,address):\n",
    "        self.address=address\n",
    "        \n",
    "    def getaddress(self):\n",
    "        return self.address\n",
    "    \n",
    "    def setmarks(self,marks):\n",
    "        self.marks=marks\n",
    "        \n",
    "    def getmarks(self):\n",
    "        return self.marks"
   ]
  },
  {
   "cell_type": "code",
   "execution_count": 17,
   "metadata": {},
   "outputs": [],
   "source": [
    "s=Student()\n",
    "\n",
    "s.setid(100)\n",
    "s.setname('Rakesh')\n",
    "s.setaddress('HN0, Rajouri gardens, Delhi')\n",
    "s.setmarks(970)\n"
   ]
  },
  {
   "cell_type": "code",
   "execution_count": 19,
   "metadata": {},
   "outputs": [
    {
     "name": "stdout",
     "output_type": "stream",
     "text": [
      "id= 100\n",
      "name= Rakesh\n",
      "address= HN0, Rajouri gardens, Delhi\n",
      "salary= 970\n"
     ]
    }
   ],
   "source": [
    "print('id=',s.getid())\n",
    "print('name=',s.getname())\n",
    "print('address=',s.getaddress())\n",
    "print('salary=',s.getmarks())\n"
   ]
  },
  {
   "cell_type": "code",
   "execution_count": 22,
   "metadata": {},
   "outputs": [],
   "source": [
    "class Student(Teacher):\n",
    "    def setmarks(self,marks):\n",
    "        self.marks=marks\n",
    "        \n",
    "    def getmarks(self):\n",
    "        return self.marks"
   ]
  },
  {
   "cell_type": "code",
   "execution_count": 29,
   "metadata": {},
   "outputs": [],
   "source": [
    "class Father:\n",
    "    def __init__(self):\n",
    "        self.property= 800000.00\n",
    "        \n",
    "    def display_property(self):\n",
    "        print('Father\\'s property=',self.property)\n",
    "            \n",
    "class Son(Father):\n",
    "    pass\n",
    "    "
   ]
  },
  {
   "cell_type": "code",
   "execution_count": 30,
   "metadata": {},
   "outputs": [],
   "source": [
    "s=Son()"
   ]
  },
  {
   "cell_type": "code",
   "execution_count": 31,
   "metadata": {},
   "outputs": [
    {
     "name": "stdout",
     "output_type": "stream",
     "text": [
      "Father's property= 800000.0\n"
     ]
    }
   ],
   "source": [
    "s.display_property()"
   ]
  },
  {
   "cell_type": "code",
   "execution_count": 36,
   "metadata": {},
   "outputs": [],
   "source": [
    "class Father:\n",
    "    def __init__(self):\n",
    "        self.property= 800000.00\n",
    "        \n",
    "    def display_property(self):\n",
    "        print('Father\\'s property=',self.property)\n",
    "            \n",
    "class Son(Father):\n",
    "    pass"
   ]
  },
  {
   "cell_type": "code",
   "execution_count": 38,
   "metadata": {},
   "outputs": [
    {
     "name": "stdout",
     "output_type": "stream",
     "text": [
      "Father's property= 800000.0\n"
     ]
    }
   ],
   "source": [
    "s=Son()\n",
    "s.display_property()"
   ]
  },
  {
   "cell_type": "code",
   "execution_count": 40,
   "metadata": {},
   "outputs": [
    {
     "name": "stdout",
     "output_type": "stream",
     "text": [
      "Childs's Property= 200000.0\n"
     ]
    }
   ],
   "source": [
    "class Father:\n",
    "    def __init__(self):\n",
    "        self.property = 800000.00\n",
    "        \n",
    "    def display_property(self):\n",
    "        print('Fathers\\'s Property=',self.property)\n",
    "        \n",
    "class Son(Father):\n",
    "    def __init__(self):\n",
    "        self.property= 200000.00\n",
    "        \n",
    "    def display_property(self):\n",
    "        print('Childs\\'s Property=',self.property)\n",
    "        \n",
    "\n",
    "s=Son()\n",
    "s.display_property()\n",
    "    "
   ]
  },
  {
   "cell_type": "code",
   "execution_count": 41,
   "metadata": {},
   "outputs": [
    {
     "name": "stdout",
     "output_type": "stream",
     "text": [
      "Childs's Property= 200000.0\n"
     ]
    }
   ],
   "source": [
    "class Father:\n",
    "    def __init__(self):\n",
    "        self.property= 800000.00\n",
    "        \n",
    "    def display_propert(self):\n",
    "        print('Fathers\\'s Property=',self.property)\n",
    "        \n",
    "class Son(Father):\n",
    "    def __init__(self):\n",
    "        self.property= 200000.00\n",
    "        \n",
    "    def display_property(self):\n",
    "        print('Childs\\'s Property=',self.property)\n",
    "        \n",
    "s=Son()\n",
    "s.display_property()\n",
    "        "
   ]
  },
  {
   "cell_type": "code",
   "execution_count": 44,
   "metadata": {},
   "outputs": [
    {
     "name": "stdout",
     "output_type": "stream",
     "text": [
      "total property of child= 100000\n"
     ]
    }
   ],
   "source": [
    "class Father:\n",
    "    def __init__(self,property=0):\n",
    "        self.property=property\n",
    "        \n",
    "    def display_property(self):\n",
    "        print('Fathers\\'s Property=',self.property)\n",
    "        \n",
    "class Son(Father):\n",
    "    def __init__(self, propertyl=0, property=0):\n",
    "        super().__init__(property)\n",
    "        self.propertyl=propertyl\n",
    "        \n",
    "    def display_property(self):\n",
    "        print('total property of child=',self.propertyl+self.property)\n",
    "        \n",
    "s=Son(20000,80000)\n",
    "s.display_property()"
   ]
  },
  {
   "cell_type": "code",
   "execution_count": 49,
   "metadata": {},
   "outputs": [
    {
     "name": "stdout",
     "output_type": "stream",
     "text": [
      "total property of child= 100000\n"
     ]
    }
   ],
   "source": [
    "class Father:\n",
    "    def __init__(self,property=0):\n",
    "        self.property=property\n",
    "        \n",
    "    def display_property(self):\n",
    "        print('Fathers\\'s Property=',self.property)\n",
    "        \n",
    "class Son(Father):\n",
    "    def __init__(self,propertyl=0,property=0):\n",
    "        super().__init__(property)\n",
    "        self.propertyl=propertyl\n",
    "        \n",
    "    def display_property(self):\n",
    "        print('total property of child=',self.propertyl+self.property)\n",
    "        \n",
    "s=Son(20000,80000)\n",
    "s.display_property()     "
   ]
  },
  {
   "cell_type": "code",
   "execution_count": 52,
   "metadata": {},
   "outputs": [
    {
     "name": "stdout",
     "output_type": "stream",
     "text": [
      "Enter two measurements: 5 4\n",
      "Areavof square= 25.0\n",
      "Area of recatngle= 20.0\n"
     ]
    }
   ],
   "source": [
    "class Square:\n",
    "    def __init__(self,x):\n",
    "        self.x=x\n",
    "        \n",
    "    def area(self):\n",
    "        print('Areavof square=',self.x*self.x)\n",
    "\n",
    "class Rectangle(Square):\n",
    "    def __init__(self,x,y):\n",
    "        super().__init__(x)\n",
    "        self.y=y\n",
    "        \n",
    "    def area(self):\n",
    "        super().area()\n",
    "        print('Area of recatngle=',self.x*self.y)\n",
    "        \n",
    "a,b = [float(x) for x in input(\"Enter two measurements: \").split()]\n",
    "r=Rectangle(a,b)\n",
    "r.area()"
   ]
  },
  {
   "cell_type": "code",
   "execution_count": 54,
   "metadata": {},
   "outputs": [
    {
     "ename": "NameError",
     "evalue": "name 'Bank' is not defined",
     "output_type": "error",
     "traceback": [
      "\u001b[1;31m---------------------------------------------------------------------------\u001b[0m",
      "\u001b[1;31mNameError\u001b[0m                                 Traceback (most recent call last)",
      "\u001b[1;32m<ipython-input-54-a31fa0e43b4f>\u001b[0m in \u001b[0;36m<module>\u001b[1;34m\u001b[0m\n\u001b[1;32m----> 1\u001b[1;33m \u001b[1;32mclass\u001b[0m \u001b[0mBank\u001b[0m\u001b[1;33m(\u001b[0m\u001b[0mobject\u001b[0m\u001b[1;33m)\u001b[0m\u001b[1;33m:\u001b[0m\u001b[1;33m\u001b[0m\u001b[1;33m\u001b[0m\u001b[0m\n\u001b[0m\u001b[0;32m      2\u001b[0m     \u001b[0mcash\u001b[0m\u001b[1;33m=\u001b[0m\u001b[1;36m100000\u001b[0m\u001b[1;33m\u001b[0m\u001b[1;33m\u001b[0m\u001b[0m\n\u001b[0;32m      3\u001b[0m     \u001b[1;33m@\u001b[0m\u001b[0mclassmethod\u001b[0m\u001b[1;33m\u001b[0m\u001b[1;33m\u001b[0m\u001b[0m\n\u001b[0;32m      4\u001b[0m     \u001b[1;32mdef\u001b[0m \u001b[0mavailable_cash\u001b[0m\u001b[1;33m(\u001b[0m\u001b[0mcls\u001b[0m\u001b[1;33m)\u001b[0m\u001b[1;33m:\u001b[0m\u001b[1;33m\u001b[0m\u001b[1;33m\u001b[0m\u001b[0m\n\u001b[0;32m      5\u001b[0m         \u001b[0mprint\u001b[0m\u001b[1;33m(\u001b[0m\u001b[0mcls\u001b[0m\u001b[1;33m.\u001b[0m\u001b[0mcash\u001b[0m\u001b[1;33m)\u001b[0m\u001b[1;33m\u001b[0m\u001b[1;33m\u001b[0m\u001b[0m\n",
      "\u001b[1;32m<ipython-input-54-a31fa0e43b4f>\u001b[0m in \u001b[0;36mBank\u001b[1;34m()\u001b[0m\n\u001b[0;32m      5\u001b[0m         \u001b[0mprint\u001b[0m\u001b[1;33m(\u001b[0m\u001b[0mcls\u001b[0m\u001b[1;33m.\u001b[0m\u001b[0mcash\u001b[0m\u001b[1;33m)\u001b[0m\u001b[1;33m\u001b[0m\u001b[1;33m\u001b[0m\u001b[0m\n\u001b[0;32m      6\u001b[0m \u001b[1;33m\u001b[0m\u001b[0m\n\u001b[1;32m----> 7\u001b[1;33m     \u001b[1;32mclass\u001b[0m \u001b[0mAndhraBank\u001b[0m\u001b[1;33m(\u001b[0m\u001b[0mBank\u001b[0m\u001b[1;33m)\u001b[0m\u001b[1;33m:\u001b[0m\u001b[1;33m\u001b[0m\u001b[1;33m\u001b[0m\u001b[0m\n\u001b[0m\u001b[0;32m      8\u001b[0m         \u001b[1;32mpass\u001b[0m\u001b[1;33m\u001b[0m\u001b[1;33m\u001b[0m\u001b[0m\n\u001b[0;32m      9\u001b[0m \u001b[1;33m\u001b[0m\u001b[0m\n",
      "\u001b[1;31mNameError\u001b[0m: name 'Bank' is not defined"
     ]
    }
   ],
   "source": [
    "class Bank(object):\n",
    "    cash=100000\n",
    "    @classmethod\n",
    "    def available_cash(cls):\n",
    "        print(cls.cash)\n",
    "        \n",
    "    class AndhraBank(Bank):\n",
    "        pass\n",
    "    \n",
    "    class StateBank(Bank):\n",
    "        cash=200000\n",
    "        @classmethod\n",
    "        def available_cash(cls):\n",
    "            print(cls.cash+Bank.cash)\n",
    "            \n",
    "    a= AndhraBank()\n",
    "    a.available_cash()\n",
    "    \n",
    "    s=StateBank()\n",
    "    s.available_cash()"
   ]
  },
  {
   "cell_type": "code",
   "execution_count": 57,
   "metadata": {},
   "outputs": [
    {
     "name": "stdout",
     "output_type": "stream",
     "text": [
      "Child's inherited qualities:\n",
      "Height is 6.0 feet\n",
      "color is brown\n"
     ]
    }
   ],
   "source": [
    "class Father:\n",
    "    def height(self):\n",
    "        print('Height is 6.0 feet')\n",
    "\n",
    "class Mother:\n",
    "    def color(self):\n",
    "        print('color is brown')\n",
    "        \n",
    "class Child(Father,Mother):\n",
    "    pass\n",
    "\n",
    "c=Child()\n",
    "print('Child\\'s inherited qualities:')\n",
    "c.height()\n",
    "c.color()\n",
    "    "
   ]
  },
  {
   "cell_type": "code",
   "execution_count": 58,
   "metadata": {},
   "outputs": [
    {
     "name": "stdout",
     "output_type": "stream",
     "text": [
      "Child's inherited qualities:\n",
      "Height is 6.0 feet\n",
      "color is brown\n"
     ]
    }
   ],
   "source": [
    "class Father:\n",
    "    def height(self):\n",
    "        print('height is 6 foot')\n",
    "        \n",
    "class Mother:\n",
    "    def color(self):\n",
    "        print('color is brown')\n",
    "        \n",
    "c=Child()\n",
    "print('Child\\'s inherited qualities:')\n",
    "c.height()\n",
    "c.color()"
   ]
  },
  {
   "cell_type": "code",
   "execution_count": 59,
   "metadata": {},
   "outputs": [
    {
     "name": "stdout",
     "output_type": "stream",
     "text": [
      "Child's inherited qualities:\n",
      "Height is 6.0 feet\n",
      "color is brown\n"
     ]
    }
   ],
   "source": [
    "class Father:\n",
    "    def height(self):\n",
    "        print('height is 6 foot')\n",
    "        \n",
    "class Mother:\n",
    "    def color(self):\n",
    "        print('color is brown')\n",
    "        \n",
    "c=Child()\n",
    "print('Child\\'s inherited qualities:')\n",
    "c.height()\n",
    "c.color()"
   ]
  },
  {
   "cell_type": "code",
   "execution_count": 60,
   "metadata": {},
   "outputs": [
    {
     "name": "stdout",
     "output_type": "stream",
     "text": [
      "c\n",
      "a\n"
     ]
    }
   ],
   "source": [
    "class A(object):\n",
    "    def __init__(self):\n",
    "        self.a='a'\n",
    "        print(self.a)\n",
    "\n",
    "class B(object):\n",
    "    def __init__(self):\n",
    "        self.b='b'\n",
    "        print(self.b)\n",
    "        \n",
    "class C(A,B):\n",
    "    def __init__(self):\n",
    "        self.c='c'\n",
    "        print(self.c)\n",
    "        super().__init__()\n",
    "        \n",
    "o=C()"
   ]
  },
  {
   "cell_type": "code",
   "execution_count": 61,
   "metadata": {},
   "outputs": [
    {
     "name": "stdout",
     "output_type": "stream",
     "text": [
      "c\n",
      "a\n"
     ]
    }
   ],
   "source": [
    "class A(object):\n",
    "    def __init__(self):\n",
    "        self.a='a'\n",
    "        print(self.a)\n",
    "        \n",
    "class B(object):\n",
    "    def __init__(self):\n",
    "        self.b='b'\n",
    "        print(self.b)\n",
    "\n",
    "class C(A,B):\n",
    "    def __init__(self):\n",
    "        self.c='c'\n",
    "        print(self.c)\n",
    "        super().__init__()\n",
    "        \n",
    "o=C()"
   ]
  },
  {
   "cell_type": "code",
   "execution_count": 63,
   "metadata": {},
   "outputs": [
    {
     "name": "stdout",
     "output_type": "stream",
     "text": [
      "c\n",
      "a\n",
      "b\n"
     ]
    }
   ],
   "source": [
    "class A(object):\n",
    "    def __init__(self):\n",
    "        self.a='a'\n",
    "        print(self.a)\n",
    "        super().__init__()\n",
    "        \n",
    "class B(object):\n",
    "    def __init__(self):\n",
    "        self.b='b'\n",
    "        print(self.b)\n",
    "        super().__init__()\n",
    "\n",
    "class C(A,B):\n",
    "    def __init__(self):\n",
    "        self.c='c'\n",
    "        print(self.c)\n",
    "        super().__init__()\n",
    "        \n",
    "o=C()\n",
    "        "
   ]
  },
  {
   "cell_type": "code",
   "execution_count": 64,
   "metadata": {},
   "outputs": [
    {
     "name": "stdout",
     "output_type": "stream",
     "text": [
      "15\n"
     ]
    }
   ],
   "source": [
    "print(10+5)"
   ]
  },
  {
   "cell_type": "code",
   "execution_count": 65,
   "metadata": {},
   "outputs": [
    {
     "name": "stdout",
     "output_type": "stream",
     "text": [
      "RedFort\n"
     ]
    }
   ],
   "source": [
    "s1=\"Red\"\n",
    "s2=\"Fort\"\n",
    "print(s1+s2)"
   ]
  },
  {
   "cell_type": "code",
   "execution_count": 66,
   "metadata": {},
   "outputs": [
    {
     "name": "stdout",
     "output_type": "stream",
     "text": [
      "[10, 20, 30, 5, 15, -10]\n"
     ]
    }
   ],
   "source": [
    "a=[10,20,30]\n",
    "b=[5,15,-10]\n",
    "\n",
    "print(a+b)"
   ]
  },
  {
   "cell_type": "code",
   "execution_count": 67,
   "metadata": {},
   "outputs": [
    {
     "ename": "TypeError",
     "evalue": "unsupported operand type(s) for +: 'BookX' and 'BookY'",
     "output_type": "error",
     "traceback": [
      "\u001b[1;31m---------------------------------------------------------------------------\u001b[0m",
      "\u001b[1;31mTypeError\u001b[0m                                 Traceback (most recent call last)",
      "\u001b[1;32m<ipython-input-67-763ebe4008c0>\u001b[0m in \u001b[0;36m<module>\u001b[1;34m\u001b[0m\n\u001b[0;32m     10\u001b[0m \u001b[0mb2\u001b[0m\u001b[1;33m=\u001b[0m\u001b[0mBookY\u001b[0m\u001b[1;33m(\u001b[0m\u001b[1;36m150\u001b[0m\u001b[1;33m)\u001b[0m\u001b[1;33m\u001b[0m\u001b[1;33m\u001b[0m\u001b[0m\n\u001b[0;32m     11\u001b[0m \u001b[1;33m\u001b[0m\u001b[0m\n\u001b[1;32m---> 12\u001b[1;33m \u001b[0mprint\u001b[0m\u001b[1;33m(\u001b[0m\u001b[1;34m'Total Pages='\u001b[0m\u001b[1;33m,\u001b[0m\u001b[0mb1\u001b[0m\u001b[1;33m+\u001b[0m\u001b[0mb2\u001b[0m\u001b[1;33m)\u001b[0m\u001b[1;33m\u001b[0m\u001b[1;33m\u001b[0m\u001b[0m\n\u001b[0m",
      "\u001b[1;31mTypeError\u001b[0m: unsupported operand type(s) for +: 'BookX' and 'BookY'"
     ]
    }
   ],
   "source": [
    "class BookX:\n",
    "    def __init__(self,pages):\n",
    "        self.pages=pages\n",
    "        \n",
    "class BookY:\n",
    "    def __init__(self,pages):\n",
    "        self.pages=pages\n",
    "        \n",
    "b1=BookX(100)\n",
    "b2=BookY(150)\n",
    "\n",
    "print('Total Pages=',b1+b2)"
   ]
  },
  {
   "cell_type": "code",
   "execution_count": 68,
   "metadata": {},
   "outputs": [
    {
     "name": "stdout",
     "output_type": "stream",
     "text": [
      "Total pages =  300\n"
     ]
    }
   ],
   "source": [
    "class BookX:\n",
    "    def __init__(self,pages):\n",
    "        self.pages=pages\n",
    "        \n",
    "    def __add__(self,other):\n",
    "        return self.pages+other.pages\n",
    "    \n",
    "class BookY:\n",
    "    def __init__(self,pages):\n",
    "        self.pages=pages\n",
    "        \n",
    "b1=BookX(100)\n",
    "b2=BookY(200)\n",
    "print('Total pages = ',b1+b2)\n",
    "\n"
   ]
  },
  {
   "cell_type": "code",
   "execution_count": 71,
   "metadata": {},
   "outputs": [
    {
     "name": "stdout",
     "output_type": "stream",
     "text": [
      "Ramayanan has moree pages\n"
     ]
    }
   ],
   "source": [
    "class Ramayanan:\n",
    "    def __init__(self,pages):\n",
    "        self.pages=pages\n",
    "        \n",
    "    def __gt__(self,other):\n",
    "        return self.pages>other.pages\n",
    "    \n",
    "class Mahabharata:\n",
    "    def __init__(self,pages):\n",
    "        self.pages=pages\n",
    "        \n",
    "b1=Ramayanan(100)\n",
    "b2=Mahabharata(99)\n",
    "if(b1>b2):\n",
    "    print('Ramayanan has moree pages')\n",
    "else:\n",
    "    print('Mahabharata has more pages')"
   ]
  },
  {
   "cell_type": "code",
   "execution_count": 72,
   "metadata": {},
   "outputs": [
    {
     "name": "stdout",
     "output_type": "stream",
     "text": [
      "THis month salary is = 12500.0\n"
     ]
    }
   ],
   "source": [
    "class Employee:\n",
    "    def __init__(self,name,salary):\n",
    "        self.name=name\n",
    "        self.salary=salary\n",
    "        \n",
    "    def __mul__(self,other):\n",
    "        return self.salary*other.days\n",
    "    \n",
    "class Attendance:\n",
    "    def __init__(self,name,days):\n",
    "        self.name=name\n",
    "        self.days=days\n",
    "        \n",
    "x1=Employee('Srinu',500.00)\n",
    "x2=Attendance('Srinu',25)\n",
    "print('THis month salary is =', x1*x2)"
   ]
  },
  {
   "cell_type": "code",
   "execution_count": 73,
   "metadata": {},
   "outputs": [],
   "source": [
    "def sum(self, a=None, b=None, c=None):\n",
    "    if a!=None and b!=None and c!=None:\n",
    "        print('sum of three',a+b+c)\n",
    "    elif a!=None and b!=None:\n",
    "        print('sum of two=',a+b)"
   ]
  },
  {
   "cell_type": "code",
   "execution_count": 74,
   "metadata": {},
   "outputs": [],
   "source": [
    "class Myclass:\n",
    "    def sum(self,a=None,b=None,c=None):\n",
    "        if a!=None and b!=None and c!=None:\n",
    "            print('Sum of three = ',a+b+c)\n",
    "        elif a!=None and b!= None:\n",
    "            print('Sum of two = ',a+b)\n",
    "        else:\n",
    "             print('Please enter two or three arguements')\n",
    "                "
   ]
  },
  {
   "cell_type": "code",
   "execution_count": 75,
   "metadata": {},
   "outputs": [],
   "source": [
    "m=Myclass()"
   ]
  },
  {
   "cell_type": "code",
   "execution_count": 76,
   "metadata": {},
   "outputs": [
    {
     "name": "stdout",
     "output_type": "stream",
     "text": [
      "Sum of three =  45\n"
     ]
    }
   ],
   "source": [
    "m.sum(10,15,20)"
   ]
  },
  {
   "cell_type": "code",
   "execution_count": null,
   "metadata": {},
   "outputs": [],
   "source": []
  }
 ],
 "metadata": {
  "kernelspec": {
   "display_name": "Python 3",
   "language": "python",
   "name": "python3"
  },
  "language_info": {
   "codemirror_mode": {
    "name": "ipython",
    "version": 3
   },
   "file_extension": ".py",
   "mimetype": "text/x-python",
   "name": "python",
   "nbconvert_exporter": "python",
   "pygments_lexer": "ipython3",
   "version": "3.7.4"
  }
 },
 "nbformat": 4,
 "nbformat_minor": 2
}
