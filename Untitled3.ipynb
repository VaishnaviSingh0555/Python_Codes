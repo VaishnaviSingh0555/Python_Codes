{
 "cells": [
  {
   "cell_type": "code",
   "execution_count": null,
   "metadata": {},
   "outputs": [],
   "source": [
    "import pgeocode\n",
    "import pandas as pd\n",
    "\n",
    "f = pd.read_excel(r\"C:\\Users\\vaishnavi.singh\\Documents\\GeoData Set\\Pincode files (1).xlsx\", usecols=['Pincode'])\n",
    "# print(f)\n",
    "\n",
    "for i in f.iterrows(): \n",
    "#     print(i)\n",
    "    \n",
    "#     nomi = pgeocode.Nominatim('in')\n",
    "#     nomi.query_postal_code(\"i\")"
   ]
  },
  {
   "cell_type": "code",
   "execution_count": null,
   "metadata": {},
   "outputs": [],
   "source": []
  }
 ],
 "metadata": {
  "kernelspec": {
   "display_name": "Python 3",
   "language": "python",
   "name": "python3"
  },
  "language_info": {
   "codemirror_mode": {
    "name": "ipython",
    "version": 3
   },
   "file_extension": ".py",
   "mimetype": "text/x-python",
   "name": "python",
   "nbconvert_exporter": "python",
   "pygments_lexer": "ipython3",
   "version": "3.7.4"
  }
 },
 "nbformat": 4,
 "nbformat_minor": 2
}
