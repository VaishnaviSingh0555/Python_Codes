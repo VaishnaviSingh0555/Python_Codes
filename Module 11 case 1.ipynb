{
 "cells": [
  {
   "cell_type": "code",
   "execution_count": 48,
   "metadata": {},
   "outputs": [
    {
     "name": "stdout",
     "output_type": "stream",
     "text": [
      "(99999,)\n",
      "0        True\n",
      "1        True\n",
      "2        True\n",
      "3        True\n",
      "4        True\n",
      "         ... \n",
      "99994    True\n",
      "99995    True\n",
      "99996    True\n",
      "99997    True\n",
      "99998    True\n",
      "Name: ISBN, Length: 99999, dtype: bool\n"
     ]
    }
   ],
   "source": [
    "import pandas as pd\n",
    "import csv\n",
    "import seaborn as sns\n",
    "import matplotlib.pyplot as plt\n",
    "\n",
    "ratings = pd.read_csv(r\"C:\\Users\\vaishnavi.singh\\Documents\\DataSet\\Recommend.csv\")\n",
    "ratings.columns =['userID','ID','bookRating','ISBN']\n",
    "\n",
    "ratings_new = ratings[ratings.ISBN.isin(ratings.ISBN)]\n",
    "ratings_new = ratings_new[ratings_new.userID.isin(ratings.userID)]\n",
    "\n",
    "ratings_explicit = ratings_new[ratings_new.bookRating != 0]\n",
    "ratings_implicit = ratings_new[ratings_new.bookRating == 0]\n",
    "\n",
    "ratings_count = pd.DataFrame(ratings_explicit.groupby(['ISBN'])['bookRating'].sum())\n",
    "top10 = ratings_count.sort_values('bookRating', ascending= False).head(10)\n",
    "top10.merge(ratings, left_index =True, right_on = 'ISBN')\n",
    "\n",
    "counts1 = ratings_explicit['userID'].value_counts()\n",
    "# ratings_explicit = ratings_explicit[ratings_explicit['userID'].isin(counts1[counts1 > 5 ]).index]\n",
    "# counts = ratings_explicit['userID'].value_counts()\n",
    "# ratings_explicit = ratings_explicit[ratings_explicit['bookRating'].isin(counts1[counts1 >= 100 ]).index()]\n",
    "\n",
    "# ratings_matrix = ratings_explicit.pivot(index=\"userID\", columns='ISBN', values='bookRating')\n",
    "# userID = ratings_matrix.index\n",
    "# ISBN = ratings_matrix.columns\n",
    "# print(ratings_matrix.shape)\n",
    "# ratings_matrix.head()\n",
    "\n",
    "print(ratings.ISBN.shape)\n",
    "print(ratings.ISBN.isin(ratings.ISBN))\n",
    "\n",
    "updRating=ratings[ratings.ISBN.isin(ratings.ISBN)]\n",
    "updRating=updRating[updRating.userID.isin(ratings.userID)]"
   ]
  },
  {
   "cell_type": "code",
   "execution_count": 49,
   "metadata": {},
   "outputs": [
    {
     "data": {
      "image/png": "[encoded data removed]",
      "text/plain": [
       "<Figure size 432x288 with 1 Axes>"
      ]
     },
     "metadata": {
      "needs_background": "light"
     },
     "output_type": "display_data"
    }
   ],
   "source": [
    "sns.countplot(data=updRating[updRating.bookRating>=0],x='bookRating')\n",
    "plt.show()"
   ]
  },
  {
   "cell_type": "code",
   "execution_count": 50,
   "metadata": {},
   "outputs": [
    {
     "data": {
      "image/png": "[encoded data removed]",
      "text/plain": [
       "<Figure size 432x288 with 1 Axes>"
      ]
     },
     "metadata": {
      "needs_background": "light"
     },
     "output_type": "display_data"
    }
   ],
   "source": [
    "ratingCorr=updRating[updRating.bookRating>0]\n",
    "ratingErr=updRating[updRating.bookRating==0]\n",
    "sns.countplot(data=ratingCorr,x='bookRating')\n",
    "plt.show()"
   ]
  },
  {
   "cell_type": "code",
   "execution_count": 61,
   "metadata": {},
   "outputs": [],
   "source": [
    "# countExp=ratings['userID'].value_counts()\n",
    "# ratingCorr=ratings[ratingCorr['userID'].isin(countExp[countExp>=100].index)]\n",
    "# counts=ratings['bookRating'].value_counts()\n",
    "# ratingCorr=ratingCorr[ratingCorr['bookRating'].isin(counts[counts>=100].index)]\n",
    "# rating_matrix=ratingCorr.pivot(index='userId',columns='ISBN',values='bookRating')\n",
    "# userId=rating_matrix.index\n",
    "# ISBN=rating_matrix.columns\n",
    "# print(rating_matrix.shape)\n",
    "# print(rating_matrix)"
   ]
  },
  {
   "cell_type": "code",
   "execution_count": null,
   "metadata": {},
   "outputs": [],
   "source": []
  },
  {
   "cell_type": "code",
   "execution_count": null,
   "metadata": {},
   "outputs": [],
   "source": []
  }
 ],
 "metadata": {
  "kernelspec": {
   "display_name": "Python 3",
   "language": "python",
   "name": "python3"
  },
  "language_info": {
   "codemirror_mode": {
    "name": "ipython",
    "version": 3
   },
   "file_extension": ".py",
   "mimetype": "text/x-python",
   "name": "python",
   "nbconvert_exporter": "python",
   "pygments_lexer": "ipython3",
   "version": "3.7.4"
  }
 },
 "nbformat": 4,
 "nbformat_minor": 2
}
